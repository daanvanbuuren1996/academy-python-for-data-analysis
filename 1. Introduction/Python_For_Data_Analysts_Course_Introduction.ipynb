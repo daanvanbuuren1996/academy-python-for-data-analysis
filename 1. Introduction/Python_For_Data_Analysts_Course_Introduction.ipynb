{
 "cells": [
  {
   "cell_type": "markdown",
   "metadata": {},
   "source": [
    "<img src='images/gdd-logo.png' align='right' width=300px>\n",
    "\n",
    "# Python for Data Analysts Course Introduction\n",
    "\n",
    "Welcome to the Python for Data Analysts course run by Xebia Data!\n",
    "\n",
    "### Course Objectives:\n",
    "\n",
    "- Work with the different data types in Python\n",
    "- Use conditionals, loops and lists to improve code efficiency\n",
    "- Write functions that are effective and have good documentation\n",
    "- Explain the use of the pandas library\n",
    "- Select/Filter and aggregate data\n",
    "- Bonus: Use the pandas plot method to visualise data"
   ]
  },
  {
   "cell_type": "markdown",
   "metadata": {},
   "source": [
    "--- \n",
    "<img src='images/checklist.png' align='right' width=300px>\n",
    "\n",
    "## Agenda\n",
    "\n",
    "### Block 1 - Python Essentials\n",
    "\n",
    "- Data types\n",
    "- Control flow: conditionals and loops\n",
    "- Lists\n",
    "- Functions\n",
    "\n",
    "### Block 2 - Pandas\n",
    "\n",
    "- Pandas introduction\n",
    "- Selecting and filtering\n",
    "- Aggregations\n",
    "- Creating new columns\n",
    "- Bonus: Plotting with pandas"
   ]
  },
  {
   "cell_type": "markdown",
   "metadata": {},
   "source": [
    "<img src='images/jupyter.png' align='right' width=200px style='padding:20px'>\n",
    "\n",
    "---\n",
    "\n",
    "## Jupyter notebook\n",
    "\n",
    "During this course we will program in Python, using **Jupyter notebooks** from Anaconda. \n",
    "\n",
    "- Jupyter notebook allows for programming in the browser. \n",
    "- Code, text and output are displayed \"in-line\", therefore great for telling a story.\n",
    "- Very popular amongst data scientists.\n",
    "\n",
    "Let's look at how to work with Jupyter Notebooks effectively:"
   ]
  },
  {
   "cell_type": "code",
   "execution_count": 3,
   "metadata": {},
   "outputs": [
    {
     "data": {
      "text/plain": [
       "26.0"
      ]
     },
     "execution_count": 3,
     "metadata": {},
     "output_type": "execute_result"
    }
   ],
   "source": [
    "5*5+5/5"
   ]
  },
  {
   "cell_type": "markdown",
   "metadata": {},
   "source": [
    "## Notebook shortcuts\n",
    "\n",
    "All necessary commands have corresponding buttons at the top of the screen.\n",
    "As you become more familiar with using Jupyter Notebook, you'll become more\n",
    "efficient by using hotkeys instead. A list of some useful ones (use ⌘ or \n",
    "`command` instead of `ctrl` on a *Mac*):\n",
    "\n",
    "- `ctrl  + enter` : run cell\n",
    "- `shift + enter` : run cell and create / select the one after\n",
    "- `ctrl  + s`     : save notebook\n",
    "- `esc`           : enter command mode\n",
    "\n",
    "Command mode — introduced above — is opposite to Insert mode. \n",
    "In Insert mode you can input your code or text. In Command mode — as the \n",
    "name implies, you can execute commands that mostly influence the notebook:\n",
    "\n",
    "- `↑`/`↓` : browser through different cells\n",
    "- `y`     : changes cell to a code cell\n",
    "- `m`     : changes cell to a [markdown](https://en.wikipedia.org/wiki/Markdown) cell\n",
    "- `a`     : create new cell above\n",
    "- `b`     : create new cell below\n",
    "- `l`     : toggle line numbers\n",
    "- `dd`    : delete cell"
   ]
  },
  {
   "cell_type": "code",
   "execution_count": null,
   "metadata": {},
   "outputs": [],
   "source": []
  },
  {
   "cell_type": "markdown",
   "metadata": {},
   "source": [
    "---\n",
    "\n",
    "<img src='images/python.png' align='right' width=200px>\n",
    "\n",
    "# Why Python?\n",
    "\n",
    "1. **Simplicity**: Python is designed to be easy to read and write\n",
    "2. **Libraries and Frameworks**:\n",
    "    - `numpy` for numerical analysis\n",
    "    - `pandas` for data analysis\n",
    "    - `sklearn` for machine learning\n",
    "3. **Open source**: It is freely usable and distributable, even for commercial use\n",
    "4. **Community**: Python's community is vast, diverse and growing."
   ]
  },
  {
   "cell_type": "markdown",
   "metadata": {},
   "source": [
    "---\n",
    "\n",
    "## Get the most out of your training!\n",
    "\n",
    "Here are some tips/expectations for you that, if you follow, will help you make the most out of your training!\n",
    "\n",
    "- Code along during demo\n",
    "- Pair/group programming during activities\n",
    "- Share solutions\n",
    "- Ask questions"
   ]
  }
 ],
 "metadata": {
  "kernelspec": {
   "display_name": "Python 3",
   "language": "python",
   "name": "python3"
  },
  "language_info": {
   "codemirror_mode": {
    "name": "ipython",
    "version": 3
   },
   "file_extension": ".py",
   "mimetype": "text/x-python",
   "name": "python",
   "nbconvert_exporter": "python",
   "pygments_lexer": "ipython3",
   "version": "3.12.1"
  }
 },
 "nbformat": 4,
 "nbformat_minor": 4
}
