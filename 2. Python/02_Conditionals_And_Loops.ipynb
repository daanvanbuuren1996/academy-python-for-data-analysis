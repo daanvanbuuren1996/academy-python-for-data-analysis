{
 "cells": [
  {
   "cell_type": "markdown",
   "metadata": {},
   "source": [
    "<img src=images/gdd-logo.png align=right width=300px>\n",
    "\n",
    "\n",
    "# Control flow: conditionals and for loops\n",
    "\n",
    "In this section, we will look at how you can use conditionals and loops to make life a little easier when executing code.\n",
    "\n",
    "We will cover:\n",
    "* [Conditionals](#conditionals)\n",
    "    * [`if` and `else`](#if-else)\n",
    "    * [`if`, `elif` and `else`](#if-elif-else)\n",
    "    * [<mark>Exercise: FizzBuzz: `if`, `elif`, and `else`</mark>](#ex-fizzbuzz)\n",
    "* [Loops](#loops)\n",
    "    * [Using `for loop` to loop through strings](#for)\n",
    "    * [<mark>Exercise: Checking string elements</mark>](#ex-cond-for)\n",
    "    * [More for loops: iterating through a range](#more-loops)\n",
    "    * [<mark>Exercises: Printing numbers with `for` loops.</mark>](#ex-for-loop)"
   ]
  },
  {
   "cell_type": "markdown",
   "metadata": {},
   "source": [
    "<a id = 'conditionals'></a>\n",
    "## Conditionals\n",
    "\n",
    "Python supports multiple logical operators:\n",
    "\n",
    "* Equals: `a == b`\n",
    "* Not Equals: `a != b`\n",
    "* Less than: `a < b`\n",
    "* Less than or equal to: `a <= b`\n",
    "* Greater than: `a > b`\n",
    "* Greater than or equal to: `a >= b`\n",
    "\n"
   ]
  },
  {
   "cell_type": "markdown",
   "metadata": {},
   "source": [
    "You can also use keywords such as `and`, `or` and `not` to check for more complex conditions. \n",
    "\n"
   ]
  },
  {
   "cell_type": "markdown",
   "metadata": {},
   "source": [
    "These conditions can be used in several ways, most commonly in \"if statements\"."
   ]
  },
  {
   "cell_type": "markdown",
   "metadata": {},
   "source": [
    "<a id ='if-else'></a>\n",
    "## `if` and `else` statements\n",
    "\n",
    "`if` and `else` are conditional statements that provide you with the decision making that is required when you want to execute code based on a particular condition.\n",
    "\n",
    "Python uses the colon symbol (:) and indentation for showing where blocks of code begin and end:"
   ]
  },
  {
   "cell_type": "markdown",
   "metadata": {},
   "source": [
    "![](images/if_else.png)\n",
    "<!-- <sub>Source: Style guide for Python</sub> -->"
   ]
  },
  {
   "cell_type": "markdown",
   "metadata": {},
   "source": [
    "Below we have a variable setting the temparature to 26 degrees (Celsius).\n",
    "\n",
    "What kind of if-else statement could we write when considering the temperature?"
   ]
  },
  {
   "cell_type": "code",
   "execution_count": null,
   "metadata": {
    "lines_to_next_cell": 2
   },
   "outputs": [],
   "source": [
    "temp = 26"
   ]
  },
  {
   "cell_type": "code",
   "execution_count": null,
   "metadata": {},
   "outputs": [],
   "source": [
    "if temp > 25:\n",
    "    print(\"Boy, it's warm today!\")\n",
    "else:\n",
    "    print(\"It's rather cold today!\")"
   ]
  },
  {
   "cell_type": "markdown",
   "metadata": {},
   "source": [
    "### <mark>**Practice:** Create your own if-else statements</mark>\n",
    "\n",
    "1. If the name is equal to `\"Lysanne\"`, print `\"Cats are my favourite animals!\"`. Otherwise, print `\"All animals are great!\"`."
   ]
  },
  {
   "cell_type": "code",
   "execution_count": 3,
   "metadata": {},
   "outputs": [
    {
     "name": "stdout",
     "output_type": "stream",
     "text": [
      "Cats are my favourite animals!\n"
     ]
    }
   ],
   "source": [
    "name = \"Lysanne\"\n",
    "\n",
    "# add your code\n",
    "\n",
    "if name == \"Lysanne\":\n",
    "    print(\"Cats are my favourite animals!\")\n",
    "else: \n",
    "    print(\"All animals are great\")"
   ]
  },
  {
   "cell_type": "markdown",
   "metadata": {},
   "source": [
    "2.  You can also create nested if-else statements!"
   ]
  },
  {
   "cell_type": "markdown",
   "metadata": {},
   "source": [
    "The following cell of code has some errors that need to be fixed.\n",
    "- Uncomment the code (i.e. remove the hashtags, you can use the shortcut `Ctrl` + `/`) and see which errors you get if you try to run it.\n",
    "- Fix the code so it works!\n",
    "- Pay attention to the required syntax and level of indentation."
   ]
  },
  {
   "cell_type": "code",
   "execution_count": 9,
   "metadata": {},
   "outputs": [
    {
     "name": "stdout",
     "output_type": "stream",
     "text": [
      "It's hot! But raining...?\n"
     ]
    }
   ],
   "source": [
    "rainy = True\n",
    "temp = 26\n",
    "\n",
    "if temp > 25:\n",
    "    if rainy == True:\n",
    "        print(\"It's hot! But raining...?\")\n",
    "    else:\n",
    "        print(\"It's hot! And not a raindrop in sight!\")\n",
    "else:\n",
    "    if rainy == True:\n",
    "        print(\"Just stay home...\")\n",
    "    else:\n",
    "        print(\"It's cold, but at least it ain't raining!\")"
   ]
  },
  {
   "cell_type": "code",
   "execution_count": null,
   "metadata": {},
   "outputs": [],
   "source": [
    "# %load answers/ex-ifelse.py"
   ]
  },
  {
   "cell_type": "markdown",
   "metadata": {},
   "source": [
    "<a id ='if-elif-else'></a>\n",
    "## Using `elif`\n",
    "\n",
    "Python uses the colon symbol (:) and indentation for showing where blocks of code begin and end:"
   ]
  },
  {
   "cell_type": "markdown",
   "metadata": {},
   "source": [
    "![](images/if_elif_else.png)\n",
    "<!-- <sub>Source: ?</sub> -->"
   ]
  },
  {
   "cell_type": "markdown",
   "metadata": {},
   "source": [
    "**Example**: Adding an `elif` before the `else`"
   ]
  },
  {
   "cell_type": "code",
   "execution_count": null,
   "metadata": {
    "lines_to_next_cell": 2
   },
   "outputs": [],
   "source": [
    "temp = 26"
   ]
  },
  {
   "cell_type": "code",
   "execution_count": 11,
   "metadata": {},
   "outputs": [
    {
     "name": "stdout",
     "output_type": "stream",
     "text": [
      "I love it when it's hot\n"
     ]
    }
   ],
   "source": [
    "if temp > 25:\n",
    "    print(\"I love it when it's hot\")\n",
    "elif temp > 0:\n",
    "    print(\"Well it's not hot... but it's not freezing either!\")\n",
    "else:\n",
    "    print(\"Brrrr! Too cold!\")"
   ]
  },
  {
   "cell_type": "markdown",
   "metadata": {},
   "source": [
    "<mark>**Question:** What would happen if you run this again, but you change the `elif` to `if`? Why?</mark>"
   ]
  },
  {
   "cell_type": "raw",
   "metadata": {
    "vscode": {
     "languageId": "raw"
    }
   },
   "source": [
    "Answer: both statements are true, so both are printed"
   ]
  },
  {
   "cell_type": "markdown",
   "metadata": {},
   "source": [
    "<a id='ex-fizzbuzz'></a>\n",
    "## <mark>Exercise: FizzBuzz: `if`, `elif`, and `else`</mark>\n",
    "\n",
    "Write a conditional statement to check if the number `num` is divisible by 2 or 5.\n",
    "\n",
    "- If `num` is divisible by 2 print \"Fizz\".\n",
    "- If it is divisible by 5 (and not by 2)  print \"Buzz\".\n",
    "- And if it's not divisible by either, it should print \"No Fizz or Buzz\".\n",
    "\n",
    "*Hint: To check is a number is divisible by 2 use:* `num % 2 == 0`\n",
    " \n",
    "- **Bonus:** If it's divisible by 2 *and* 5, print \"FizzBuzz\"."
   ]
  },
  {
   "cell_type": "code",
   "execution_count": 21,
   "metadata": {
    "lines_to_next_cell": 2
   },
   "outputs": [
    {
     "name": "stdout",
     "output_type": "stream",
     "text": [
      "Fizz\n"
     ]
    }
   ],
   "source": [
    "num = 8\n",
    "\n",
    "# # add your code\n",
    "# if num / 2 == True: \n",
    "#     print(\"Fizz\")\n",
    "# elif num / 5 == True:\n",
    "#     print(\"buzz\")\n",
    "# else: \n",
    "#     print(\"No fizz or buzz\")\n",
    "\n",
    "    # add your code\n",
    "if num % 2 == 0: \n",
    "    if num % 5 == 0:\n",
    "        print(\"FizzBuzz\")\n",
    "    else:\n",
    "        print(\"Fizz\")\n",
    "elif num % 5 == 0:\n",
    "    print(\"Buzz\")\n",
    "else: \n",
    "    print(\"No fizz or buzz\")"
   ]
  },
  {
   "cell_type": "code",
   "execution_count": null,
   "metadata": {},
   "outputs": [],
   "source": [
    "# %load answers/ex-fizzbuzz.py"
   ]
  },
  {
   "cell_type": "markdown",
   "metadata": {},
   "source": [
    "<a id ='loops'></a>\n",
    "## For loops\n",
    "\n",
    "A for loop is used for iterating over a sequence (that is either a list, a tuple, a dictionary, a set, or a string):\n",
    "\n",
    "\n",
    "![](images/for.png)\n",
    "<!-- <sub>Source: ?</sub> -->"
   ]
  },
  {
   "cell_type": "markdown",
   "metadata": {},
   "source": [
    "<a id='for'></a>\n",
    "       \n",
    "## Using `for loop` to loop through strings\n",
    "\n",
    "We can loop through each character in a string"
   ]
  },
  {
   "cell_type": "code",
   "execution_count": null,
   "metadata": {},
   "outputs": [],
   "source": [
    "for char in 'goodbye world':\n",
    "    print(char)"
   ]
  },
  {
   "cell_type": "markdown",
   "metadata": {},
   "source": [
    "<mark>**Practice:** Write a for loop that prints each letter of the string `\"Let's practice\"` in uppercase.\n",
    "    \n",
    "*Hint:* remember the `.upper()` method?"
   ]
  },
  {
   "cell_type": "code",
   "execution_count": null,
   "metadata": {},
   "outputs": [],
   "source": []
  },
  {
   "cell_type": "code",
   "execution_count": null,
   "metadata": {},
   "outputs": [],
   "source": [
    "# %load answers/ex-forloop.py"
   ]
  },
  {
   "cell_type": "markdown",
   "metadata": {},
   "source": [
    "We can do more than just print in our statement line... What is `count_chars` up to?"
   ]
  },
  {
   "cell_type": "code",
   "execution_count": null,
   "metadata": {
    "lines_to_next_cell": 2
   },
   "outputs": [],
   "source": [
    "count_chars = 0\n",
    "\n",
    "for char in 'hello world':\n",
    "    count_chars = count_chars + 1\n",
    "    count_chars += 1\n",
    "    print(count_chars)"
   ]
  },
  {
   "cell_type": "code",
   "execution_count": null,
   "metadata": {},
   "outputs": [],
   "source": [
    "count_chars"
   ]
  },
  {
   "cell_type": "markdown",
   "metadata": {},
   "source": [
    "`count_chars` is adding one on each loop. After the loop finishes it will be equal to the number of characters in the string! \n",
    "\n",
    "**Example**: How about adding an if statement in there as well?"
   ]
  },
  {
   "cell_type": "code",
   "execution_count": null,
   "metadata": {},
   "outputs": [],
   "source": [
    "long_string = 'hello there. Nice day today. my name is James.'\n",
    "\n",
    "for char in long_string:\n",
    "    \n",
    "    if char == 'a':\n",
    "        print(char)"
   ]
  },
  {
   "cell_type": "markdown",
   "metadata": {},
   "source": [
    "<a id ='ex-cond-for'></a>\n",
    "### <mark>Exercise: Checking string elements</mark>\n",
    "\n",
    "Write Python code that goes through each letter of a given string and counts how many vowels are in it.\n",
    "\n",
    "*Hint:* Use a `for loop` and the `+=` operator."
   ]
  },
  {
   "cell_type": "code",
   "execution_count": null,
   "metadata": {
    "lines_to_next_cell": 2
   },
   "outputs": [
    {
     "name": "stdout",
     "output_type": "stream",
     "text": [
      "o 1\n",
      "i 2\n",
      "o 3\n",
      "a 4\n",
      "a 5\n",
      "e 6\n"
     ]
    }
   ],
   "source": [
    "random_string = \"python is not a snake\"\n",
    "vowels = 'aeuio'\n",
    "count_char = 0\n",
    "\n",
    "for char in random_string:\n",
    "    if char in vowels:\n",
    "        count_char +=1\n",
    "        print(char, count_char)"
   ]
  },
  {
   "cell_type": "code",
   "execution_count": null,
   "metadata": {
    "lines_to_next_cell": 2
   },
   "outputs": [],
   "source": []
  },
  {
   "cell_type": "code",
   "execution_count": null,
   "metadata": {},
   "outputs": [],
   "source": [
    "# %load answers/ex-cond-for.py"
   ]
  },
  {
   "cell_type": "markdown",
   "metadata": {},
   "source": [
    "<a id='ex-for-loop'></a>\n",
    "#### <mark>Bonus exercises: Printing numbers with `for` loops.</mark>\n",
    "\n",
    "Update the below to instead print all the square numbers between 1 and 100 \n",
    "Your output should look like this:\n",
    "```\n",
    "1\n",
    "4\n",
    "9\n",
    "16\n",
    "25\n",
    "36\n",
    "49\n",
    "64\n",
    "81\n",
    "100\n",
    "```"
   ]
  },
  {
   "cell_type": "code",
   "execution_count": 21,
   "metadata": {
    "lines_to_next_cell": 2
   },
   "outputs": [
    {
     "name": "stdout",
     "output_type": "stream",
     "text": [
      "1\n",
      "4\n",
      "9\n",
      "16\n",
      "25\n",
      "36\n",
      "49\n",
      "64\n",
      "81\n",
      "100\n"
     ]
    }
   ],
   "source": [
    "\n",
    "\n",
    "for i in range(1, 11):\n",
    "    print(i*i)"
   ]
  },
  {
   "cell_type": "markdown",
   "metadata": {},
   "source": [
    "<a id='ex-for-loop-challenge'></a>\n",
    "#### <mark>**Extra hard challenge**:</mark> Write code that prints the following pattern:\n",
    "```\n",
    "1\n",
    "12\n",
    "123\n",
    "1234\n",
    "12345\n",
    "```"
   ]
  },
  {
   "cell_type": "code",
   "execution_count": 26,
   "metadata": {
    "lines_to_next_cell": 2
   },
   "outputs": [
    {
     "name": "stdout",
     "output_type": "stream",
     "text": [
      "12345\n"
     ]
    }
   ],
   "source": [
    "list_numbers =''\n",
    "for i in range(1,6):\n",
    "    list_numbers = list_numbers +str(i)\n",
    "print(list_numbers)"
   ]
  },
  {
   "cell_type": "code",
   "execution_count": null,
   "metadata": {},
   "outputs": [],
   "source": [
    "# %load answers/ex-for-loop-range.py"
   ]
  },
  {
   "cell_type": "code",
   "execution_count": null,
   "metadata": {},
   "outputs": [],
   "source": [
    "# %load answers/ex-for-loop-challenge.py"
   ]
  }
 ],
 "metadata": {
  "kernelspec": {
   "display_name": "Python 3",
   "language": "python",
   "name": "python3"
  },
  "language_info": {
   "codemirror_mode": {
    "name": "ipython",
    "version": 3
   },
   "file_extension": ".py",
   "mimetype": "text/x-python",
   "name": "python",
   "nbconvert_exporter": "python",
   "pygments_lexer": "ipython3",
   "version": "3.12.1"
  }
 },
 "nbformat": 4,
 "nbformat_minor": 4
}
